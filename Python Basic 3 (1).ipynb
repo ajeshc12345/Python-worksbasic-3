{
 "cells": [
  {
   "cell_type": "markdown",
   "id": "11c67026",
   "metadata": {},
   "source": [
    "# String"
   ]
  },
  {
   "cell_type": "code",
   "execution_count": 4,
   "id": "f1f8eb16",
   "metadata": {},
   "outputs": [
    {
     "data": {
      "text/plain": [
       "'EzyMentor'"
      ]
     },
     "execution_count": 4,
     "metadata": {},
     "output_type": "execute_result"
    }
   ],
   "source": [
    "#Strings in python are used to represent unicode character values. a single character is also considered as string.\n",
    "#we denote or declare the string values inside single quptes or doble quotes.\n",
    "#To axxess the values in a string, we use the indeces and square brackets.\n",
    "string = 'EzyMentor'\n",
    "string "
   ]
  },
  {
   "cell_type": "code",
   "execution_count": 5,
   "id": "31b9cbba",
   "metadata": {},
   "outputs": [
    {
     "data": {
      "text/plain": [
       "'e'"
      ]
     },
     "execution_count": 5,
     "metadata": {},
     "output_type": "execute_result"
    }
   ],
   "source": [
    "#to Input for strings\n",
    "string[4]"
   ]
  },
  {
   "cell_type": "code",
   "execution_count": 6,
   "id": "4f6dd0a7",
   "metadata": {},
   "outputs": [
    {
     "data": {
      "text/plain": [
       "'E'"
      ]
     },
     "execution_count": 6,
     "metadata": {},
     "output_type": "execute_result"
    }
   ],
   "source": [
    "string[0]"
   ]
  },
  {
   "cell_type": "code",
   "execution_count": 7,
   "id": "65ed822e",
   "metadata": {},
   "outputs": [
    {
     "data": {
      "text/plain": [
       "'r'"
      ]
     },
     "execution_count": 7,
     "metadata": {},
     "output_type": "execute_result"
    }
   ],
   "source": [
    "string[8]"
   ]
  },
  {
   "cell_type": "code",
   "execution_count": 2,
   "id": "0cc74d11",
   "metadata": {},
   "outputs": [
    {
     "name": "stdout",
     "output_type": "stream",
     "text": [
      "EzyMentor is Eazy\n"
     ]
    }
   ],
   "source": [
    "#to Input for strings\n",
    "x=input()\n"
   ]
  },
  {
   "cell_type": "code",
   "execution_count": 3,
   "id": "123c234b",
   "metadata": {},
   "outputs": [
    {
     "name": "stdout",
     "output_type": "stream",
     "text": [
      "Hi all my viewers\n"
     ]
    }
   ],
   "source": [
    "z=input()"
   ]
  },
  {
   "cell_type": "markdown",
   "id": "2002810d",
   "metadata": {},
   "source": [
    "# Basic Operations Using String"
   ]
  },
  {
   "cell_type": "code",
   "execution_count": 1,
   "id": "0802a4d3",
   "metadata": {},
   "outputs": [
    {
     "data": {
      "text/plain": [
       "'HAI FROM EZYMENTOR'"
      ]
     },
     "execution_count": 1,
     "metadata": {},
     "output_type": "execute_result"
    }
   ],
   "source": [
    "string = 'Hai From EzyMentor'\n",
    "#will make the letters to upercase\n",
    "string.upper()"
   ]
  },
  {
   "cell_type": "code",
   "execution_count": 2,
   "id": "cada5213",
   "metadata": {},
   "outputs": [
    {
     "data": {
      "text/plain": [
       "'hai from ezymentor'"
      ]
     },
     "execution_count": 2,
     "metadata": {},
     "output_type": "execute_result"
    }
   ],
   "source": [
    "#will make the letters to lowercase\n",
    "string.lower()\n",
    "'hai from ezymentor'"
   ]
  },
  {
   "cell_type": "code",
   "execution_count": 3,
   "id": "217dff8a",
   "metadata": {},
   "outputs": [
    {
     "data": {
      "text/plain": [
       "'i From EzyMent'"
      ]
     },
     "execution_count": 3,
     "metadata": {},
     "output_type": "execute_result"
    }
   ],
   "source": [
    "#will return the strings starting at  index 2 until the index 16.\n",
    "string[2:16]"
   ]
  },
  {
   "cell_type": "code",
   "execution_count": 4,
   "id": "2e6e1239",
   "metadata": {},
   "outputs": [
    {
     "data": {
      "text/plain": [
       "'From EzyMentor'"
      ]
     },
     "execution_count": 4,
     "metadata": {},
     "output_type": "execute_result"
    }
   ],
   "source": [
    "string[4:18]"
   ]
  },
  {
   "cell_type": "code",
   "execution_count": null,
   "id": "62b97b9d",
   "metadata": {},
   "outputs": [],
   "source": []
  }
 ],
 "metadata": {
  "kernelspec": {
   "display_name": "Python 3 (ipykernel)",
   "language": "python",
   "name": "python3"
  },
  "language_info": {
   "codemirror_mode": {
    "name": "ipython",
    "version": 3
   },
   "file_extension": ".py",
   "mimetype": "text/x-python",
   "name": "python",
   "nbconvert_exporter": "python",
   "pygments_lexer": "ipython3",
   "version": "3.10.9"
  }
 },
 "nbformat": 4,
 "nbformat_minor": 5
}
